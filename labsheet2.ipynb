{
 "cells": [
  {
   "cell_type": "code",
   "execution_count": 10,
   "metadata": {},
   "outputs": [
    {
     "name": "stdout",
     "output_type": "stream",
     "text": [
      "1\n"
     ]
    },
    {
     "data": {
      "text/plain": [
       "<list_iterator at 0x1766be983a0>"
      ]
     },
     "execution_count": 10,
     "metadata": {},
     "output_type": "execute_result"
    }
   ],
   "source": [
    "#itarator \n",
    "L = [1,2,3,4,5]\n",
    "it = iter(L)\n",
    "print(next(it))\n",
    "it"
   ]
  },
  {
   "cell_type": "code",
   "execution_count": 11,
   "metadata": {},
   "outputs": [
    {
     "name": "stdout",
     "output_type": "stream",
     "text": [
      "<class 'list_iterator'>\n",
      "<class 'list'>\n"
     ]
    }
   ],
   "source": [
    "print(type(it))\n",
    "print(type(L))"
   ]
  },
  {
   "cell_type": "code",
   "execution_count": 14,
   "metadata": {},
   "outputs": [
    {
     "data": {
      "text/plain": [
       "3"
      ]
     },
     "execution_count": 14,
     "metadata": {},
     "output_type": "execute_result"
    }
   ],
   "source": [
    "next(it)"
   ]
  },
  {
   "cell_type": "code",
   "execution_count": 13,
   "metadata": {},
   "outputs": [
    {
     "name": "stdout",
     "output_type": "stream",
     "text": [
      "1\n",
      "2\n",
      "3\n",
      "4\n",
      "5\n"
     ]
    }
   ],
   "source": [
    "for i in iter(L):\n",
    "    print(i)"
   ]
  },
  {
   "cell_type": "code",
   "execution_count": 16,
   "metadata": {},
   "outputs": [
    {
     "data": {
      "text/plain": [
       "tuple"
      ]
     },
     "execution_count": 16,
     "metadata": {},
     "output_type": "execute_result"
    }
   ],
   "source": [
    "#materialized itarator\n",
    "L = [1,2,3,4,5]\n",
    "it = iter(L)\n",
    "t = tuple(it)\n",
    "type(t)\n",
    "\n"
   ]
  },
  {
   "cell_type": "code",
   "execution_count": 17,
   "metadata": {},
   "outputs": [
    {
     "data": {
      "text/plain": [
       "(1, 2, 3, 4, 5)"
      ]
     },
     "execution_count": 17,
     "metadata": {},
     "output_type": "execute_result"
    }
   ],
   "source": [
    "#unpacking itarator\n",
    "L = [1,2,3,4,5]\n",
    "it = iter(L)\n",
    "a,b,c,d,e = it\n",
    "a,b,c,d,e"
   ]
  },
  {
   "cell_type": "code",
   "execution_count": 19,
   "metadata": {},
   "outputs": [
    {
     "name": "stdout",
     "output_type": "stream",
     "text": [
      "jan 1\n",
      "feb 2\n",
      "mar 3\n",
      "apr 4\n",
      "may 5\n",
      "jun 6\n",
      "jul 7\n",
      "aug 8\n",
      "sep 9\n",
      "oct 10\n",
      "nov 11\n",
      "dec 12\n"
     ]
    }
   ],
   "source": [
    "#datatype that support iterator\n",
    "months ={\"jan\":1,\"feb\":2,\"mar\":3,\"apr\":4,\"may\":5,\"jun\":6,\"jul\":7,\"aug\":8,\"sep\":9,\"oct\":10,\"nov\":11,\"dec\":12}\n",
    "for month in months:\n",
    "    print(month,months[month])\n"
   ]
  },
  {
   "cell_type": "code",
   "execution_count": 20,
   "metadata": {},
   "outputs": [
    {
     "data": {
      "text/plain": [
       "[2, 4, 6]"
      ]
     },
     "execution_count": 20,
     "metadata": {},
     "output_type": "execute_result"
    }
   ],
   "source": [
    "l=[1,2,3]\n",
    "[2*i for i in l]"
   ]
  },
  {
   "cell_type": "code",
   "execution_count": 21,
   "metadata": {},
   "outputs": [
    {
     "data": {
      "text/plain": [
       "6"
      ]
     },
     "execution_count": 21,
     "metadata": {},
     "output_type": "execute_result"
    }
   ],
   "source": [
    "#list comprehension and generator\n",
    "l=[1,2,3]\n",
    "g=(2*i for i in l)\n",
    "next(g)\n",
    "next(g)\n",
    "next(g)"
   ]
  },
  {
   "cell_type": "code",
   "execution_count": 22,
   "metadata": {},
   "outputs": [
    {
     "data": {
      "text/plain": [
       "<generator object <genexpr> at 0x000001766C491630>"
      ]
     },
     "execution_count": 22,
     "metadata": {},
     "output_type": "execute_result"
    }
   ],
   "source": [
    "line_list = ['  Presidency University\\n', ' Computer Science Department\\n', ' Dept Of CSE \\n', '  \\n']\n",
    "\n",
    "stripped_iter = (line.strip() for line in line_list)\n",
    "stripped_iter"
   ]
  },
  {
   "cell_type": "code",
   "execution_count": 23,
   "metadata": {},
   "outputs": [
    {
     "name": "stdout",
     "output_type": "stream",
     "text": [
      "['Presidency University', 'Computer Science Department', 'Dept Of CSE', '']\n"
     ]
    }
   ],
   "source": [
    "# List comprehension\n",
    "stripped_list = [line.strip() for line in line_list]\n",
    "print(stripped_list)"
   ]
  },
  {
   "cell_type": "code",
   "execution_count": 28,
   "metadata": {},
   "outputs": [
    {
     "name": "stdout",
     "output_type": "stream",
     "text": [
      "['Presidency University', 'Computer Science Department']\n"
     ]
    }
   ],
   "source": [
    "#printing only certain elements using if condition in list comprehension[printing only element where length is greater than 15]\n",
    "stripped_list = [line.strip() for line in line_list if len(line) > 15]\n",
    "print(stripped_list)"
   ]
  },
  {
   "cell_type": "code",
   "execution_count": 29,
   "metadata": {},
   "outputs": [
    {
     "name": "stdout",
     "output_type": "stream",
     "text": [
      "1\n",
      "2\n",
      "3\n"
     ]
    }
   ],
   "source": [
    "#basic generator function\n",
    "def simple_gen():\n",
    "    yield 1\n",
    "    yield 2\n",
    "    yield 3\n",
    "\n",
    "for value in simple_gen():\n",
    "    print(value)\n",
    "\n"
   ]
  },
  {
   "cell_type": "code",
   "execution_count": 33,
   "metadata": {},
   "outputs": [
    {
     "name": "stdout",
     "output_type": "stream",
     "text": [
      "0\n",
      "1\n"
     ]
    }
   ],
   "source": [
    "#use of generate_ints funciton in generator\n",
    "def generate_ints(N):\n",
    "    for i in range(N):\n",
    "        yield i\n",
    "\n",
    "\n",
    "gen = generate_ints(3)\n",
    "print(next(gen))\n",
    "print(next(gen))\n"
   ]
  },
  {
   "cell_type": "code",
   "execution_count": 34,
   "metadata": {},
   "outputs": [
    {
     "name": "stdout",
     "output_type": "stream",
     "text": [
      "0\n",
      "1\n",
      "8\n",
      "9\n"
     ]
    }
   ],
   "source": [
    "#send function in generator\n",
    "#use of send function in generator\n",
    "#send function is used to send value to generator\n",
    "def counter(maximum):\n",
    "    count = 0\n",
    "    while count < maximum:\n",
    "        val = (yield count)\n",
    "        # If value provided, change counter\n",
    "        if val is not None:\n",
    "            count = val\n",
    "        else:\n",
    "            count += 1\n",
    "\n",
    "it = counter(10)\n",
    "print(next(it))\n",
    "print(next(it))\n",
    "print(it.send(8))\n",
    "print(next(it))\n",
    "\n"
   ]
  },
  {
   "cell_type": "code",
   "execution_count": 36,
   "metadata": {},
   "outputs": [
    {
     "name": "stdout",
     "output_type": "stream",
     "text": [
      "0\n",
      "1\n",
      "Caught a ValueError\n",
      "2\n",
      "3\n"
     ]
    }
   ],
   "source": [
    "#throw function in generator\n",
    "#throw function is used to throw exception in generator\n",
    "\n",
    "def counter(maximum):\n",
    "    count = 0\n",
    "    while count < maximum:\n",
    "        try:\n",
    "            val = (yield count)\n",
    "        except ValueError:\n",
    "            print(\"Caught a ValueError\")\n",
    "        if val is not None:\n",
    "            count = val\n",
    "        else:\n",
    "            count += 1\n",
    "\n",
    "it = counter(10)\n",
    "print(next(it))\n",
    "print(next(it))\n",
    "print(it.throw(ValueError))\n",
    "print(next(it))\n",
    "\n"
   ]
  },
  {
   "cell_type": "code",
   "execution_count": 37,
   "metadata": {},
   "outputs": [
    {
     "name": "stdout",
     "output_type": "stream",
     "text": [
      "0\n",
      "1\n",
      "Stopping the counter\n"
     ]
    },
    {
     "ename": "StopIteration",
     "evalue": "",
     "output_type": "error",
     "traceback": [
      "\u001b[1;31m---------------------------------------------------------------------------\u001b[0m",
      "\u001b[1;31mStopIteration\u001b[0m                             Traceback (most recent call last)",
      "Cell \u001b[1;32mIn[37], line 21\u001b[0m\n\u001b[0;32m     19\u001b[0m \u001b[38;5;28mprint\u001b[39m(\u001b[38;5;28mnext\u001b[39m(it))\n\u001b[0;32m     20\u001b[0m it\u001b[38;5;241m.\u001b[39mclose()\n\u001b[1;32m---> 21\u001b[0m \u001b[38;5;28mprint\u001b[39m(\u001b[38;5;28;43mnext\u001b[39;49m\u001b[43m(\u001b[49m\u001b[43mit\u001b[49m\u001b[43m)\u001b[49m)\n",
      "\u001b[1;31mStopIteration\u001b[0m: "
     ]
    }
   ],
   "source": [
    "#close function in generator\n",
    "#close function is used to close generator\n",
    "\n",
    "def counter(maximum):\n",
    "    count = 0\n",
    "    try:\n",
    "        while count < maximum:\n",
    "            val = (yield count)\n",
    "            if val is not None:\n",
    "                count = val\n",
    "            else:\n",
    "                count += 1\n",
    "    finally:\n",
    "        print(\"Stopping the counter\")\n",
    "\n",
    "it = counter(10)\n",
    "print(next(it))\n",
    "print(next(it))\n",
    "it.close()\n",
    "print(next(it))\n"
   ]
  },
  {
   "cell_type": "code",
   "execution_count": 38,
   "metadata": {},
   "outputs": [
    {
     "data": {
      "text/plain": [
       "['SENTENCE', 'FRAGMENT']"
      ]
     },
     "execution_count": 38,
     "metadata": {},
     "output_type": "execute_result"
    }
   ],
   "source": [
    "def upper(s):\n",
    "  return s.upper()\n",
    "\n",
    "list(map(upper,['sentence', 'fragment']))"
   ]
  },
  {
   "cell_type": "code",
   "execution_count": 42,
   "metadata": {},
   "outputs": [
    {
     "data": {
      "text/plain": [
       "[0, 2, 4, 6, 8]"
      ]
     },
     "execution_count": 42,
     "metadata": {},
     "output_type": "execute_result"
    }
   ],
   "source": [
    "#filter function\n",
    "def is_even(x):\n",
    "    return x % 2 == 0\n",
    "\n",
    "list(filter(is_even, range(10)))\n",
    "\n"
   ]
  },
  {
   "cell_type": "code",
   "execution_count": 43,
   "metadata": {},
   "outputs": [
    {
     "name": "stdout",
     "output_type": "stream",
     "text": [
      "0 a\n",
      "1 b\n",
      "2 c\n"
     ]
    }
   ],
   "source": [
    "#enumerate function\n",
    "#enumerate function is used to add index to the iterable\n",
    "l = ['a', 'b', 'c']\n",
    "for index, value in enumerate(l):\n",
    "    print(index, value)\n",
    "\n"
   ]
  },
  {
   "cell_type": "code",
   "execution_count": 44,
   "metadata": {},
   "outputs": [
    {
     "data": {
      "text/plain": [
       "[1, 2, 3, 4]"
      ]
     },
     "execution_count": 44,
     "metadata": {},
     "output_type": "execute_result"
    }
   ],
   "source": [
    "#sort method\n",
    "l = [4, 3, 2, 1]\n",
    "l.sort()\n",
    "l\n"
   ]
  },
  {
   "cell_type": "code",
   "execution_count": 45,
   "metadata": {},
   "outputs": [
    {
     "name": "stdout",
     "output_type": "stream",
     "text": [
      "[10, 44, 14, 96, 15, 76, 93, 67, 37, 27]\n",
      "[10, 14, 15, 27, 37, 44, 67, 76, 93, 96]\n"
     ]
    }
   ],
   "source": [
    "import random\n",
    "un_sorted = random.sample(range(100), 10)\n",
    "print(un_sorted)\n",
    "sorted_list = sorted(un_sorted)\n",
    "print(sorted_list)"
   ]
  },
  {
   "cell_type": "code",
   "execution_count": 2,
   "metadata": {},
   "outputs": [
    {
     "name": "stdout",
     "output_type": "stream",
     "text": [
      "True\n",
      "True\n",
      "True\n",
      "False\n"
     ]
    }
   ],
   "source": [
    "#any(iter) and all(iter)\n",
    "#any(iter) returns True if any element in the iterable is True\n",
    "\n",
    "\n",
    "l = [1, 2, 3, 4, 5]\n",
    "print(any(l))\n",
    "print(all(l))\n",
    "\n",
    "l = [0, 1, 2, 3, 4, 5]\n",
    "print(any(l))\n",
    "print(all(l))\n",
    "\n",
    "\n"
   ]
  },
  {
   "cell_type": "code",
   "execution_count": 3,
   "metadata": {},
   "outputs": [
    {
     "name": "stdout",
     "output_type": "stream",
     "text": [
      "[(1, 'a'), (2, 'b'), (3, 'c')]\n"
     ]
    }
   ],
   "source": [
    "#zip function\n",
    "#zip function is used to combine two iterables element wise\n",
    "\n",
    "l1 = [1, 2, 3]\n",
    "l2 = ['a', 'b', 'c']\n",
    "z = zip(l1, l2)\n",
    "print(list(z))\n"
   ]
  },
  {
   "cell_type": "code",
   "execution_count": 4,
   "metadata": {},
   "outputs": [
    {
     "name": "stdout",
     "output_type": "stream",
     "text": [
      "10\n",
      "13\n",
      "16\n",
      "19\n",
      "22\n"
     ]
    }
   ],
   "source": [
    "#part 2 \n",
    "#itertools module\n",
    "import itertools\n",
    "#count function\n",
    "\n",
    "for i in itertools.count(10,3):\n",
    "    print(i)\n",
    "    if i > 20:\n",
    "        break\n"
   ]
  },
  {
   "cell_type": "code",
   "execution_count": 8,
   "metadata": {},
   "outputs": [
    {
     "name": "stdout",
     "output_type": "stream",
     "text": [
      "10 20 30 40 "
     ]
    }
   ],
   "source": [
    "#infinite iterator\n",
    "for i in itertools.count(10,10):\n",
    "    if i ==50:\n",
    "        break\n",
    "    else:\n",
    "        print(i,end=\" \")\n",
    "\n",
    "\n"
   ]
  },
  {
   "cell_type": "code",
   "execution_count": 10,
   "metadata": {},
   "outputs": [
    {
     "name": "stdout",
     "output_type": "stream",
     "text": [
      "T E Z T E Z T E Z "
     ]
    }
   ],
   "source": [
    "#cyclic iterator\n",
    "count = 0\n",
    "for i in itertools.cycle('TEZ'):\n",
    "    if count > 8:\n",
    "        break\n",
    "    print(i, end=' ')\n",
    "    count += 1"
   ]
  },
  {
   "cell_type": "code",
   "execution_count": 12,
   "metadata": {},
   "outputs": [
    {
     "name": "stdout",
     "output_type": "stream",
     "text": [
      "SIOS TEZ CSE SIOS TEZ CSE SIOS TEZ CSE SIOS "
     ]
    }
   ],
   "source": [
    "l = [\"SIOS\", \"TEZ\", \"CSE\"]\n",
    "iter = itertools.cycle(l)\n",
    "for i in range(10):\n",
    "    print(next(iter),end=\" \")"
   ]
  },
  {
   "cell_type": "code",
   "execution_count": 13,
   "metadata": {},
   "outputs": [
    {
     "name": "stdout",
     "output_type": "stream",
     "text": [
      "[10, 10, 10, 10, 10]\n"
     ]
    }
   ],
   "source": [
    "#repeat function\n",
    "print(list(itertools.repeat(10, 5)))"
   ]
  },
  {
   "cell_type": "code",
   "execution_count": 14,
   "metadata": {},
   "outputs": [
    {
     "name": "stdout",
     "output_type": "stream",
     "text": [
      "[('a', 'b'), ('a', 'c'), ('a', 'd'), ('b', 'c'), ('b', 'd'), ('c', 'd')]\n",
      "[('a', 'a'), ('a', 'b'), ('a', 'c'), ('a', 'd'), ('b', 'a'), ('b', 'b'), ('b', 'c'), ('b', 'd'), ('c', 'a'), ('c', 'b'), ('c', 'c'), ('c', 'd'), ('d', 'a'), ('d', 'b'), ('d', 'c'), ('d', 'd')]\n"
     ]
    }
   ],
   "source": [
    "#combinations function\n",
    "#product function\n",
    "\n",
    "l = ['a', 'b', 'c', 'd']\n",
    "print(list(itertools.combinations(l, 2)))\n",
    "print(list(itertools.product(l, repeat=2)))\n"
   ]
  },
  {
   "cell_type": "code",
   "execution_count": null,
   "metadata": {},
   "outputs": [],
   "source": []
  }
 ],
 "metadata": {
  "kernelspec": {
   "display_name": "Python 3",
   "language": "python",
   "name": "python3"
  },
  "language_info": {
   "codemirror_mode": {
    "name": "ipython",
    "version": 3
   },
   "file_extension": ".py",
   "mimetype": "text/x-python",
   "name": "python",
   "nbconvert_exporter": "python",
   "pygments_lexer": "ipython3",
   "version": "3.12.3"
  }
 },
 "nbformat": 4,
 "nbformat_minor": 2
}
