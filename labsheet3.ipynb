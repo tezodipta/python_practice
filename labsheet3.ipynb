{
 "cells": [
  {
   "cell_type": "markdown",
   "metadata": {},
   "source": [
    "<h1>File Handling</h1>"
   ]
  },
  {
   "cell_type": "code",
   "execution_count": 12,
   "metadata": {},
   "outputs": [],
   "source": [
    "#creating a new file\n",
    "file = open(\"file_handling/newfile.txt\", \"w\")\n"
   ]
  },
  {
   "cell_type": "code",
   "execution_count": 13,
   "metadata": {},
   "outputs": [],
   "source": [
    "#writing hello world to the file and closing it\n",
    "file.write(\"Hello World\\n\")\n",
    "file.close()\n",
    "\n"
   ]
  },
  {
   "cell_type": "code",
   "execution_count": 14,
   "metadata": {},
   "outputs": [
    {
     "name": "stdout",
     "output_type": "stream",
     "text": [
      "Hello World\n",
      "\n"
     ]
    }
   ],
   "source": [
    "#reading the file\n",
    "file = open(\"file_handling/newfile.txt\", \"r\")\n",
    "content = file.read()\n",
    "print(content)"
   ]
  },
  {
   "cell_type": "code",
   "execution_count": 15,
   "metadata": {},
   "outputs": [],
   "source": [
    "#write numbers from 1 to 20 to the output file writenumbers.txt\n",
    "file1 = open(\"file_handling/writenumbers.txt\", \"w\")\n",
    "for i in range(1,21):\n",
    "    file1.write(str(i) + \"\\n\")\n",
    "file1.close()\n"
   ]
  },
  {
   "cell_type": "code",
   "execution_count": 16,
   "metadata": {},
   "outputs": [
    {
     "name": "stdout",
     "output_type": "stream",
     "text": [
      "1\n",
      "2\n",
      "3\n",
      "4\n",
      "5\n",
      "6\n",
      "7\n",
      "8\n",
      "9\n",
      "10\n",
      "11\n",
      "12\n",
      "13\n",
      "14\n",
      "15\n",
      "16\n",
      "17\n",
      "18\n",
      "19\n",
      "20\n",
      "\n"
     ]
    }
   ],
   "source": [
    "file1 = open(\"file_handling/writenumbers.txt\", \"r\")\n",
    "content = file1.read()\n",
    "print(content)"
   ]
  },
  {
   "cell_type": "code",
   "execution_count": 23,
   "metadata": {},
   "outputs": [],
   "source": [
    "#generate 50 num within a range 500 to 1000 and write then to file writenumrandom.txt\n",
    "import random\n",
    "file2 = open(\"file_handling/writenumrandom.txt\", \"w\")\n",
    "for i in range(50):\n",
    "    file2.write(str(random.randint(500,1000)) + \"\\n\")\n",
    "file2.close()\n"
   ]
  },
  {
   "cell_type": "code",
   "execution_count": 24,
   "metadata": {},
   "outputs": [
    {
     "name": "stdout",
     "output_type": "stream",
     "text": [
      "730\n",
      "865\n",
      "580\n",
      "564\n",
      "898\n",
      "631\n",
      "933\n",
      "987\n",
      "675\n",
      "781\n",
      "633\n",
      "766\n",
      "759\n",
      "663\n",
      "791\n",
      "911\n",
      "699\n",
      "764\n",
      "603\n",
      "745\n",
      "658\n",
      "573\n",
      "781\n",
      "840\n",
      "788\n",
      "624\n",
      "546\n",
      "664\n",
      "848\n",
      "687\n",
      "854\n",
      "610\n",
      "956\n",
      "732\n",
      "648\n",
      "568\n",
      "988\n",
      "993\n",
      "740\n",
      "688\n",
      "608\n",
      "516\n",
      "661\n",
      "719\n",
      "774\n",
      "788\n",
      "840\n",
      "656\n",
      "996\n",
      "831\n",
      "\n",
      "51\n"
     ]
    }
   ],
   "source": [
    "#read the file writenumrandom.txt\n",
    "file2 = open(\"file_handling/writenumrandom.txt\", \"r\")\n",
    "content = file2.read()\n",
    "print(content)\n",
    "#print the total number of lines in the file\n",
    "lines = content.split(\"\\n\")\n",
    "print(len(lines))\n"
   ]
  },
  {
   "cell_type": "code",
   "execution_count": 25,
   "metadata": {},
   "outputs": [
    {
     "name": "stdout",
     "output_type": "stream",
     "text": [
      "730\n",
      "\n",
      "865\n",
      "\n",
      "580\n",
      "\n",
      "564\n",
      "\n",
      "898\n",
      "\n",
      "631\n",
      "\n",
      "933\n",
      "\n",
      "987\n",
      "\n",
      "675\n",
      "\n",
      "781\n",
      "\n",
      "633\n",
      "\n",
      "766\n",
      "\n",
      "759\n",
      "\n",
      "663\n",
      "\n",
      "791\n",
      "\n",
      "911\n",
      "\n",
      "699\n",
      "\n",
      "764\n",
      "\n",
      "603\n",
      "\n",
      "745\n",
      "\n",
      "658\n",
      "\n",
      "573\n",
      "\n",
      "781\n",
      "\n",
      "840\n",
      "\n",
      "788\n",
      "\n",
      "624\n",
      "\n",
      "546\n",
      "\n",
      "664\n",
      "\n",
      "848\n",
      "\n",
      "687\n",
      "\n",
      "854\n",
      "\n",
      "610\n",
      "\n",
      "956\n",
      "\n",
      "732\n",
      "\n",
      "648\n",
      "\n",
      "568\n",
      "\n",
      "988\n",
      "\n",
      "993\n",
      "\n",
      "740\n",
      "\n",
      "688\n",
      "\n",
      "608\n",
      "\n",
      "516\n",
      "\n",
      "661\n",
      "\n",
      "719\n",
      "\n",
      "774\n",
      "\n",
      "788\n",
      "\n",
      "840\n",
      "\n",
      "656\n",
      "\n",
      "996\n",
      "\n",
      "831\n",
      "\n"
     ]
    }
   ],
   "source": [
    "#reading a file line by line\n",
    "file2 = open(\"file_handling/writenumrandom.txt\", \"r\")\n",
    "for line in file2:\n",
    "    print(line)\n",
    "file2.close()\n"
   ]
  },
  {
   "cell_type": "code",
   "execution_count": 27,
   "metadata": {},
   "outputs": [
    {
     "name": "stdout",
     "output_type": "stream",
     "text": [
      "Monday\n",
      "Tuesday\n",
      "Wednesday\n",
      "Thursday\n",
      "Friday\n",
      "\n"
     ]
    }
   ],
   "source": [
    "'''\n",
    "Open file \"Weekdays.txt\" in write mode.\n",
    "Write the names of the weekdays(from monday to friday) to the file.\n",
    "use seek to read the content of the file.\n",
    "set the pointer to the end of the file and append two remaining days to the file.\n",
    "read the content of the file and print it.\n",
    "'''\n",
    "file3 = open(\"file_handling/Weekdays.txt\", \"w+\")\n",
    "file3.write(\"Monday\\nTuesday\\nWednesday\\nThursday\\nFriday\\n\")\n",
    "file3.seek(0)\n",
    "content = file3.read()\n",
    "print(content)\n",
    "\n"
   ]
  },
  {
   "cell_type": "code",
   "execution_count": 28,
   "metadata": {},
   "outputs": [
    {
     "name": "stdout",
     "output_type": "stream",
     "text": [
      "Monday\n",
      "Tuesday\n",
      "Wednesday\n",
      "Thursday\n",
      "Friday\n",
      "Saturday\n",
      "Sunday\n",
      "\n"
     ]
    }
   ],
   "source": [
    "file3.seek(0,2)\n",
    "file3.write(\"Saturday\\nSunday\\n\")\n",
    "file3.seek(0)\n",
    "content = file3.read()\n",
    "print(content)"
   ]
  },
  {
   "cell_type": "code",
   "execution_count": 4,
   "metadata": {},
   "outputs": [
    {
     "ename": "ValueError",
     "evalue": "Invalid month",
     "output_type": "error",
     "traceback": [
      "\u001b[1;31m---------------------------------------------------------------------------\u001b[0m",
      "\u001b[1;31mValueError\u001b[0m                                Traceback (most recent call last)",
      "Cell \u001b[1;32mIn[4], line 9\u001b[0m\n\u001b[0;32m      6\u001b[0m         \u001b[38;5;28;01mraise\u001b[39;00m \u001b[38;5;167;01mValueError\u001b[39;00m(\u001b[38;5;124m\"\u001b[39m\u001b[38;5;124mInvalid month\u001b[39m\u001b[38;5;124m\"\u001b[39m)\n\u001b[0;32m      7\u001b[0m     \u001b[38;5;28;01mreturn\u001b[39;00m month\n\u001b[1;32m----> 9\u001b[0m m \u001b[38;5;241m=\u001b[39m \u001b[43mgetMonth\u001b[49m\u001b[43m(\u001b[49m\u001b[43m)\u001b[49m\n\u001b[0;32m     10\u001b[0m \u001b[38;5;28mprint\u001b[39m(m)\n",
      "Cell \u001b[1;32mIn[4], line 6\u001b[0m, in \u001b[0;36mgetMonth\u001b[1;34m()\u001b[0m\n\u001b[0;32m      4\u001b[0m month \u001b[38;5;241m=\u001b[39m \u001b[38;5;28mint\u001b[39m(\u001b[38;5;28minput\u001b[39m(\u001b[38;5;124m\"\u001b[39m\u001b[38;5;124menter a month(1-12)\u001b[39m\u001b[38;5;124m\"\u001b[39m))\n\u001b[0;32m      5\u001b[0m \u001b[38;5;28;01mif\u001b[39;00m month \u001b[38;5;241m<\u001b[39m\u001b[38;5;241m1\u001b[39m \u001b[38;5;129;01mor\u001b[39;00m month \u001b[38;5;241m>\u001b[39m \u001b[38;5;241m12\u001b[39m:\n\u001b[1;32m----> 6\u001b[0m     \u001b[38;5;28;01mraise\u001b[39;00m \u001b[38;5;167;01mValueError\u001b[39;00m(\u001b[38;5;124m\"\u001b[39m\u001b[38;5;124mInvalid month\u001b[39m\u001b[38;5;124m\"\u001b[39m)\n\u001b[0;32m      7\u001b[0m \u001b[38;5;28;01mreturn\u001b[39;00m month\n",
      "\u001b[1;31mValueError\u001b[0m: Invalid month"
     ]
    }
   ],
   "source": [
    "#exception handling\n",
    "#define a def getMonth() to raise the valueError exception when the user enteres an invalid month\n",
    "def getMonth():\n",
    "    month = int(input(\"enter a month(1-12)\"))\n",
    "    if month <1 or month > 12:\n",
    "        raise ValueError(\"Invalid month\")\n",
    "    return month\n",
    "\n",
    "m = getMonth()\n",
    "print(m)"
   ]
  },
  {
   "cell_type": "code",
   "execution_count": 5,
   "metadata": {},
   "outputs": [
    {
     "name": "stdout",
     "output_type": "stream",
     "text": [
      "Division by zero\n"
     ]
    }
   ],
   "source": [
    "#handling diff type of exceptions\n",
    "try:\n",
    "    x = 10/0\n",
    "except ZeroDivisionError:\n",
    "    print(\"Division by zero\")\n",
    "except ArithmeticError:\n",
    "    print(\"Arithmetic error\")\n",
    "except:\n",
    "    print(\"Error occured\")\n",
    "\n"
   ]
  },
  {
   "cell_type": "code",
   "execution_count": 6,
   "metadata": {},
   "outputs": [
    {
     "name": "stdout",
     "output_type": "stream",
     "text": [
      "Module not found\n",
      "Index out of range\n",
      "Variable not defined\n",
      "Type error\n",
      "Value error\n",
      "File not found\n"
     ]
    }
   ],
   "source": [
    "#import error\n",
    "try:\n",
    "    import mymodule\n",
    "except ImportError:\n",
    "    print(\"Module not found\")\n",
    "\n",
    "#index error\n",
    "try:\n",
    "    list = [1,2,3]\n",
    "    print(list[3])\n",
    "except IndexError:\n",
    "    print(\"Index out of range\")\n",
    "\n",
    "#name error\n",
    "try:\n",
    "    print(x)\n",
    "except NameError:\n",
    "    print(\"Variable not defined\")\n",
    "\n",
    "#type error\n",
    "try:\n",
    "    x = 10 + \"hello\"\n",
    "except TypeError:\n",
    "    print(\"Type error\")\n",
    "\n",
    "#value error\n",
    "try:\n",
    "    x = int(\"hello\")\n",
    "except ValueError:\n",
    "    print(\"Value error\")\n",
    "\n",
    "    #io error\n",
    "try:\n",
    "    file = open(\"file_handling/newfile1.txt\", \"r\")\n",
    "except IOError:\n",
    "    print(\"File not found\")\n",
    "\n"
   ]
  },
  {
   "cell_type": "code",
   "execution_count": 7,
   "metadata": {},
   "outputs": [],
   "source": [
    "#client and server prog\n",
    "#server\n",
    "import socket\n",
    "import random\n",
    "import string\n",
    "\n",
    "server_obj = socket.socket(family=socket.AF_INET, type=socket.SOCK_STREAM)\n",
    "\n",
    "ip_address = '127.0.0.1'\n",
    "port = 5555\n",
    "server_obj.bind((ip_address, port))\n",
    "server_obj.listen()\n",
    "\n",
    "connection_object, _ = server_obj.accept()\n",
    "\n",
    "\n",
    "if connection_object:\n",
    "    print(\"SERVER CONNECTED TO CLIENT\")\n",
    "    connection_object.send(b\"type the message\")\n",
    "    data_receive = connection_object.recv(1024)\n",
    "    while data_receive != b'stop':\n",
    "        print(\"{}: {}\".format(\"CLIENT MESSAGE: \", data_receive.decode('utf-8')))\n",
    "        server_input = random.choice(string.ascii_letters)\n",
    "        connection_object.send(server_input.encode('utf-8'))\n",
    "        data_receive = connection_object.recv(1024)"
   ]
  },
  {
   "cell_type": "code",
   "execution_count": null,
   "metadata": {},
   "outputs": [],
   "source": [
    "#client prog\n",
    "import socket\n",
    "import random\n",
    "import string\n",
    "\n",
    "client_obj = socket.socket(family=socket.AF_INET, type=socket.SOCK_STREAM)\n",
    "\n",
    "ip_address = '127.0.0.1'\n",
    "port = 5555\n",
    "client_obj.connect((ip_address, port))\n",
    "\n",
    "data_receive = client_obj.recv(1024)\n",
    "\n",
    "if data_receive:\n",
    "    print(\"CLIENT CONNECTED TO SERVER\")\n",
    "    print(data_receive.decode('utf-8'))\n",
    "\n",
    "\n",
    "    while data_receive:\n",
    "        client_input = input().encode('utf-8')\n",
    "\n",
    "        client_obj.send(client_input)\n",
    "\n",
    "        data_receive = client_obj.recv(1024)\n",
    "        if data_receive:\n",
    "            print(\"{}: {}\".format(\"SERVER\",data_receive.decode('utf-8')))\n",
    "\n"
   ]
  }
 ],
 "metadata": {
  "kernelspec": {
   "display_name": "Python 3",
   "language": "python",
   "name": "python3"
  },
  "language_info": {
   "codemirror_mode": {
    "name": "ipython",
    "version": 3
   },
   "file_extension": ".py",
   "mimetype": "text/x-python",
   "name": "python",
   "nbconvert_exporter": "python",
   "pygments_lexer": "ipython3",
   "version": "3.12.3"
  }
 },
 "nbformat": 4,
 "nbformat_minor": 2
}
