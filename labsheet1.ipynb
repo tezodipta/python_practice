{
 "cells": [
  {
   "cell_type": "code",
   "execution_count": 2,
   "metadata": {},
   "outputs": [
    {
     "name": "stdout",
     "output_type": "stream",
     "text": [
      "['False', 'None', 'True', 'and', 'as', 'assert', 'async', 'await', 'break', 'class', 'continue', 'def', 'del', 'elif', 'else', 'except', 'finally', 'for', 'from', 'global', 'if', 'import', 'in', 'is', 'lambda', 'nonlocal', 'not', 'or', 'pass', 'raise', 'return', 'try', 'while', 'with', 'yield']\n",
      "total keyword is 35\n"
     ]
    }
   ],
   "source": [
    "#printing keywords\n",
    "import keyword\n",
    "print(keyword.kwlist)\n",
    "print(f\"total keyword is {len(keyword.kwlist)}\")"
   ]
  },
  {
   "cell_type": "code",
   "execution_count": 4,
   "metadata": {},
   "outputs": [
    {
     "name": "stdout",
     "output_type": "stream",
     "text": [
      "single line and multiline comment\n"
     ]
    }
   ],
   "source": [
    "'''multi line comment\n",
    "this is a multi line comment'''\n",
    "#single line comment\n",
    "print(\"single line and multiline comment\")"
   ]
  },
  {
   "cell_type": "code",
   "execution_count": 6,
   "metadata": {},
   "outputs": [
    {
     "name": "stdout",
     "output_type": "stream",
     "text": [
      "sum of 10 and 20 id 30\n"
     ]
    }
   ],
   "source": [
    "#variable\n",
    "a=10\n",
    "b=20\n",
    "c=a+b\n",
    "print(f\"sum of {a} and {b} is {c}\")\n"
   ]
  },
  {
   "cell_type": "code",
   "execution_count": 11,
   "metadata": {},
   "outputs": [
    {
     "name": "stdout",
     "output_type": "stream",
     "text": [
      "[1, 2, 3, 4, 5]\n",
      "[1, 1, 2.2, 3.3]\n",
      "['apple', 'banana', 'cherry']\n"
     ]
    }
   ],
   "source": [
    "#list with constructor\n",
    "list1=([1,2,3,4,5])\n",
    "list2=([1,1,2.2,3.3])\n",
    "list3=([\"apple\",\"banana\",\"cherry\"])\n",
    "print(list1)\n",
    "print(list2)\n",
    "print(list3)"
   ]
  },
  {
   "cell_type": "code",
   "execution_count": 9,
   "metadata": {},
   "outputs": [
    {
     "name": "stdout",
     "output_type": "stream",
     "text": [
      "[1, 2.2, 'apple']\n"
     ]
    }
   ],
   "source": [
    "#list with heterogenous data\n",
    "list4=[1,2.2,\"apple\"]\n",
    "print(list4)"
   ]
  },
  {
   "cell_type": "code",
   "execution_count": 10,
   "metadata": {},
   "outputs": [
    {
     "name": "stdout",
     "output_type": "stream",
     "text": [
      "[1, 2, 3, 4, 5, 6, 7, 8, 9]\n"
     ]
    }
   ],
   "source": [
    "#list with range\n",
    "list5=list(range(1,10))\n",
    "print(list5)"
   ]
  },
  {
   "cell_type": "code",
   "execution_count": 12,
   "metadata": {},
   "outputs": [
    {
     "name": "stdout",
     "output_type": "stream",
     "text": [
      "['monday', 'tuesday', 'wednesday', 'thursday', 'friday', 'saturday', 'sunday']\n"
     ]
    }
   ],
   "source": [
    "#lsit without constructor and printing days\n",
    "days=[\"monday\",\"tuesday\",\"wednesday\",\"thursday\",\"friday\",\"saturday\",\"sunday\"]\n",
    "print(days)"
   ]
  },
  {
   "cell_type": "code",
   "execution_count": 13,
   "metadata": {},
   "outputs": [
    {
     "name": "stdout",
     "output_type": "stream",
     "text": [
      "monday\n"
     ]
    }
   ],
   "source": [
    "#accesing list element\n",
    "print(days[0])"
   ]
  },
  {
   "cell_type": "code",
   "execution_count": 14,
   "metadata": {},
   "outputs": [
    {
     "name": "stdout",
     "output_type": "stream",
     "text": [
      "['sunday', 'saturday', 'friday', 'thursday', 'wednesday', 'tuesday', 'monday']\n"
     ]
    }
   ],
   "source": [
    "#reverse list\n",
    "days.reverse()\n",
    "print(days)"
   ]
  },
  {
   "cell_type": "code",
   "execution_count": 16,
   "metadata": {},
   "outputs": [
    {
     "name": "stdout",
     "output_type": "stream",
     "text": [
      "['monday', 'tuesday', 'wednesday']\n"
     ]
    }
   ],
   "source": [
    "#slicing list\n",
    "days.reverse()\n",
    "print(days[0:3])\n"
   ]
  },
  {
   "cell_type": "code",
   "execution_count": 20,
   "metadata": {},
   "outputs": [
    {
     "name": "stdout",
     "output_type": "stream",
     "text": [
      "['wednesday', 'friday']\n"
     ]
    }
   ],
   "source": [
    "#list slicing with size\n",
    "print(days[2:6:2])"
   ]
  },
  {
   "cell_type": "code",
   "execution_count": 21,
   "metadata": {},
   "outputs": [
    {
     "name": "stdout",
     "output_type": "stream",
     "text": [
      "7\n"
     ]
    }
   ],
   "source": [
    "#list len\n",
    "print(len(days))"
   ]
  },
  {
   "cell_type": "code",
   "execution_count": 25,
   "metadata": {},
   "outputs": [
    {
     "name": "stdout",
     "output_type": "stream",
     "text": [
      "[1, 2, 3, 4, 5, 6, 7, 8, 9, 10]\n",
      "max value is 10\n",
      "min value is 1\n",
      "sum of value is 55\n",
      "average of value is 5.5\n"
     ]
    }
   ],
   "source": [
    "#list functions \n",
    "num_list=list(range(1,11))\n",
    "print(num_list)\n",
    "average=sum(num_list)/len(num_list)\n",
    "print(f\"max value is {max(num_list)}\")\n",
    "print(f\"min value is {min(num_list)}\")\n",
    "print(f\"sum of value is {sum(num_list)}\")\n",
    "print(f\"average of value is {average}\")\n",
    "\n"
   ]
  },
  {
   "cell_type": "code",
   "execution_count": 32,
   "metadata": {},
   "outputs": [
    {
     "name": "stdout",
     "output_type": "stream",
     "text": [
      "[5, 6, 7, 3, 9, 2, 1, 10, 8, 4]\n",
      "[1, 2, 3, 4, 5, 6, 7, 8, 9, 10]\n"
     ]
    }
   ],
   "source": [
    "#random shuffle and sort\n",
    "import random\n",
    "random.shuffle(num_list)\n",
    "print(num_list)\n",
    "print(sorted(num_list))"
   ]
  },
  {
   "cell_type": "code",
   "execution_count": 33,
   "metadata": {},
   "outputs": [
    {
     "name": "stdout",
     "output_type": "stream",
     "text": [
      "[1, 2, 3, 4, 5, 6]\n",
      "[1, 2, 3, 1, 2, 3, 1, 2, 3]\n"
     ]
    }
   ],
   "source": [
    "#lsit operator\n",
    "list1=[1,2,3]\n",
    "list2=[4,5,6]\n",
    "print(list1+list2)\n",
    "print(list1*3)\n"
   ]
  },
  {
   "cell_type": "code",
   "execution_count": 35,
   "metadata": {},
   "outputs": [
    {
     "name": "stdout",
     "output_type": "stream",
     "text": [
      "True\n",
      "False\n",
      "False\n",
      "True\n"
     ]
    }
   ],
   "source": [
    "#in function and not in function\n",
    "print(1 in list1)\n",
    "print(4 in list1)\n",
    "print(1 not in list1)\n",
    "print(4 not in list1)\n"
   ]
  },
  {
   "cell_type": "code",
   "execution_count": 36,
   "metadata": {},
   "outputs": [
    {
     "name": "stdout",
     "output_type": "stream",
     "text": [
      "False\n",
      "True\n"
     ]
    }
   ],
   "source": [
    "#is and is not function\n",
    "print(list1 is list2)\n",
    "print(list1 is not list2)"
   ]
  },
  {
   "cell_type": "code",
   "execution_count": 37,
   "metadata": {},
   "outputs": [
    {
     "name": "stdout",
     "output_type": "stream",
     "text": [
      "[2, 3]\n"
     ]
    }
   ],
   "source": [
    "#del function\n",
    "del list1[0]\n",
    "print(list1)"
   ]
  },
  {
   "cell_type": "code",
   "execution_count": 39,
   "metadata": {},
   "outputs": [
    {
     "name": "stdout",
     "output_type": "stream",
     "text": [
      "[1, 2, 3, 4, 5, 1, 2, 3, 4, 5, 1]\n",
      "[]\n",
      "2\n",
      "[1, 2, 3, 4, 5, 5]\n",
      "[1, 2, 3, 4, 5, 5, 1, 2, 3, 4, 5, 5]\n"
     ]
    }
   ],
   "source": [
    "#list functions append ,clear, count,copy,extend\n",
    "list1.append(1)\n",
    "print(list1)\n",
    "list1.clear()\n",
    "print(list1)\n",
    "list1=[1,2,3,4,5,5]\n",
    "print(list1.count(5))\n",
    "list2=list1.copy()\n",
    "print(list2)\n",
    "list1.extend(list2)\n",
    "print(list1)\n",
    "\n"
   ]
  },
  {
   "cell_type": "code",
   "execution_count": 40,
   "metadata": {},
   "outputs": [
    {
     "name": "stdout",
     "output_type": "stream",
     "text": [
      "(1, 2, 3, 4, 5)\n",
      "(1, 1, 2.2, 3.3)\n",
      "('apple', 'banana', 'cherry')\n",
      "<class 'tuple'>\n",
      "1\n"
     ]
    }
   ],
   "source": [
    "#tuples \n",
    "tuple1=(1,2,3,4,5)\n",
    "tuple2=(1,1,2.2,3.3)\n",
    "tuple3=(\"apple\",\"banana\",\"cherry\")\n",
    "print(tuple1)\n",
    "print(tuple2)\n",
    "print(tuple3)\n",
    "print(type(tuple1))\n",
    "#accesing tuple element\n",
    "print(tuple1[0])"
   ]
  },
  {
   "cell_type": "code",
   "execution_count": 41,
   "metadata": {},
   "outputs": [
    {
     "name": "stdout",
     "output_type": "stream",
     "text": [
      "1\n",
      "0\n"
     ]
    }
   ],
   "source": [
    "#tuple methods count and index\n",
    "print(tuple1.count(1))#it counts the occurence of the element\n",
    "print(tuple1.index(1))#it finds the first occurence of the element\n"
   ]
  },
  {
   "cell_type": "code",
   "execution_count": 44,
   "metadata": {},
   "outputs": [
    {
     "name": "stdout",
     "output_type": "stream",
     "text": [
      "{'name': 'john', 'age': 36}\n",
      "<class 'dict'>\n",
      "john\n",
      "36\n",
      "dict_keys(['name', 'age'])\n",
      "dict_values(['john', 36])\n",
      "dict_items([('name', 'john'), ('age', 36)])\n"
     ]
    }
   ],
   "source": [
    "#dist\n",
    "dist1={\"name\":\"john\",\"age\":36}\n",
    "print(dist1)\n",
    "print(type(dist1))\n",
    "#pirnting value of key and key of value\n",
    "print(dist1[\"name\"])\n",
    "print(dist1[\"age\"])\n",
    "print(dist1.keys())\n",
    "print(dist1.values())\n",
    "print(dist1.items())\n"
   ]
  },
  {
   "cell_type": "code",
   "execution_count": 45,
   "metadata": {},
   "outputs": [
    {
     "name": "stdout",
     "output_type": "stream",
     "text": [
      "{}\n",
      "{'name': 'john', 'age': 36}\n",
      "john\n",
      "dict_items([('name', 'john'), ('age', 36)])\n"
     ]
    }
   ],
   "source": [
    "#dict methods clear,,copy,get,items,keys,value\n",
    "dist1.clear()\n",
    "print(dist1)\n",
    "dist1={\"name\":\"john\",\"age\":36}\n",
    "dist2=dist1.copy()\n",
    "print(dist2)\n",
    "print(dist1.get(\"name\"))\n",
    "print(dist1.items())"
   ]
  },
  {
   "cell_type": "code",
   "execution_count": 49,
   "metadata": {},
   "outputs": [
    {
     "name": "stdout",
     "output_type": "stream",
     "text": [
      "{1, 2, 3, 4, 5}\n",
      "{1, 2.2, 3.3}\n",
      "{'banana', 'cherry', 'apple'}\n",
      "{1, 2, 3}\n",
      "<class 'set'>\n",
      "5\n"
     ]
    }
   ],
   "source": [
    "#set\n",
    "#in sets duplicate values are not allowed\n",
    "set1={1,2,3,4,5}\n",
    "set2={1,1,2.2,3.3}\n",
    "set3={\"apple\",\"banana\",\"cherry\"}\n",
    "set4={1,2,3,1,2,3}\n",
    "print(set1)\n",
    "print(set2)\n",
    "print(set3)\n",
    "print(set4)\n",
    "print(type(set1))\n",
    "print(len(set1))\n"
   ]
  },
  {
   "cell_type": "code",
   "execution_count": 50,
   "metadata": {},
   "outputs": [
    {
     "name": "stdout",
     "output_type": "stream",
     "text": [
      "{1, 2, 3, 4, 5, 6}\n",
      "set()\n",
      "{1, 2, 3}\n",
      "{2, 3, 4, 5}\n",
      "{2, 3, 4, 5}\n"
     ]
    }
   ],
   "source": [
    "#set methods add, clear, difference,discard,copy\n",
    "set1.add(6)\n",
    "print(set1)\n",
    "set1.clear()\n",
    "print(set1)\n",
    "set1={1,2,3,4,5}\n",
    "set2={4,5,6,7,8}\n",
    "print(set1.difference(set2))\n",
    "set1.discard(1)\n",
    "print(set1)\n",
    "set3=set1.copy()\n",
    "print(set3)\n"
   ]
  },
  {
   "cell_type": "code",
   "execution_count": 52,
   "metadata": {},
   "outputs": [
    {
     "name": "stdout",
     "output_type": "stream",
     "text": [
      "30\n",
      "-10\n",
      "200\n",
      "0.5\n",
      "10\n",
      "100000000000000000000\n",
      "0\n",
      "20\n",
      "10\n",
      "100\n",
      "10.0\n",
      "0.0\n",
      "0.0\n",
      "0.0\n",
      "False\n",
      "True\n",
      "False\n",
      "True\n",
      "False\n",
      "True\n",
      "False\n",
      "True\n",
      "False\n",
      "True\n",
      "False\n",
      "True\n",
      "True\n"
     ]
    }
   ],
   "source": [
    "'''python operators\n",
    "1.arithmetic operators\n",
    "2.assignment operators\n",
    "3.comparison operators\n",
    "4.logical operators\n",
    "5.identity operators\n",
    "6.membership operators\n",
    "'''\n",
    "\n",
    "#arithmetic operators\n",
    "a=10\n",
    "b=20\n",
    "print(a+b)\n",
    "print(a-b)\n",
    "print(a*b)\n",
    "print(a/b)\n",
    "print(a%b)\n",
    "print(a**b)\n",
    "print(a//b)\n",
    "\n",
    "#assignment operators\n",
    "a=10\n",
    "a+=10\n",
    "print(a)\n",
    "a-=10\n",
    "print(a)\n",
    "a*=10\n",
    "print(a)\n",
    "a/=10\n",
    "print(a)\n",
    "a%=10\n",
    "print(a)\n",
    "a**=10\n",
    "print(a)\n",
    "a//=10\n",
    "print(a)\n",
    "\n",
    "#comparison operators\n",
    "a=10\n",
    "b=20\n",
    "print(a==b)\n",
    "print(a!=b)\n",
    "print(a>b)\n",
    "print(a<b)\n",
    "print(a>=b)\n",
    "print(a<=b)\n",
    "\n",
    "#logical operators\n",
    "a=True\n",
    "b=False\n",
    "print(a and b)\n",
    "print(a or b)\n",
    "print(not a)\n",
    "\n",
    "#identity operators\n",
    "a=10\n",
    "b=10\n",
    "print(a is b)\n",
    "print(a is not b)\n",
    "\n",
    "#membership operators\n",
    "a=[1,2,3,4,5]\n",
    "print(1 in a)\n",
    "print(6 not in a)\n",
    "\n",
    "\n",
    "\n"
   ]
  },
  {
   "cell_type": "code",
   "execution_count": 54,
   "metadata": {},
   "outputs": [
    {
     "name": "stdout",
     "output_type": "stream",
     "text": [
      "10\n",
      "True\n",
      "True\n",
      "0b1010\n",
      "True\n",
      "A\n",
      "65\n",
      "30\n",
      "30\n"
     ]
    }
   ],
   "source": [
    "#functions built in,user defined,anonymous\n",
    "#built in function\n",
    "print(abs(-10))\n",
    "print(all([1,2,3,4,5]))\n",
    "print(any([0,0,0,0,1]))\n",
    "print(bin(10))\n",
    "print(bool(1))\n",
    "print(chr(65))\n",
    "print(ord('A'))\n",
    "\n",
    "#user defined function\n",
    "def add(a,b):\n",
    "    return a+b\n",
    "print(add(10,20))\n",
    "\n",
    "#anonymous function\n",
    "f=lambda a,b:a+b\n",
    "print(f(10,20))"
   ]
  }
 ],
 "metadata": {
  "kernelspec": {
   "display_name": "Python 3",
   "language": "python",
   "name": "python3"
  },
  "language_info": {
   "codemirror_mode": {
    "name": "ipython",
    "version": 3
   },
   "file_extension": ".py",
   "mimetype": "text/x-python",
   "name": "python",
   "nbconvert_exporter": "python",
   "pygments_lexer": "ipython3",
   "version": "3.12.3"
  }
 },
 "nbformat": 4,
 "nbformat_minor": 2
}
